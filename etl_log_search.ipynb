{
 "cells": [
  {
   "cell_type": "code",
   "execution_count": 1,
   "metadata": {},
   "outputs": [],
   "source": [
    "from pyspark.sql import SparkSession \n",
    "from pyspark.sql.functions import * \n",
    "from pyspark.sql.window import Window \n",
    "import os"
   ]
  },
  {
   "cell_type": "code",
   "execution_count": 2,
   "metadata": {},
   "outputs": [
    {
     "name": "stderr",
     "output_type": "stream",
     "text": [
      "24/02/27 10:28:29 WARN Utils: Your hostname, Marcus-MacBook.local resolves to a loopback address: 127.0.0.1; using 192.168.1.6 instead (on interface en0)\n",
      "24/02/27 10:28:29 WARN Utils: Set SPARK_LOCAL_IP if you need to bind to another address\n",
      "Setting default log level to \"WARN\".\n",
      "To adjust logging level use sc.setLogLevel(newLevel). For SparkR, use setLogLevel(newLevel).\n",
      "24/02/27 10:28:30 WARN NativeCodeLoader: Unable to load native-hadoop library for your platform... using builtin-java classes where applicable\n"
     ]
    }
   ],
   "source": [
    "spark = SparkSession.builder.config(\"spark.driver.memory\", \"15g\") \\\n",
    "                            .config(\"spark.executor.cores\", 16) \\\n",
    "                            .config('spark.driver.extraClassPath',\n",
    "                            '/opt/homebrew/Cellar/apache-spark/3.5.0/libexec/jars/mysql-connector-j-8.2.0.jar') \\\n",
    "                            .getOrCreate()"
   ]
  },
  {
   "cell_type": "code",
   "execution_count": 3,
   "metadata": {},
   "outputs": [
    {
     "name": "stderr",
     "output_type": "stream",
     "text": [
      "                                                                                \r"
     ]
    }
   ],
   "source": [
    "directory = \"/Users/marcusle02/Documents/Learning/study_de/BD/data/log_search\"\n",
    "\n",
    "folders = [f for f in os.listdir(directory) if os.path.isdir(os.path.join(directory, f))]\n",
    "\n",
    "merged_df = None\n",
    "\n",
    "for folder in folders:\n",
    "    parquet_path = os.path.join(directory, folder)\n",
    "    folder_df = spark.read.parquet(parquet_path)\n",
    "    if merged_df is None:\n",
    "        merged_df = folder_df\n",
    "    else:\n",
    "        merged_df = merged_df.union(folder_df)"
   ]
  },
  {
   "cell_type": "code",
   "execution_count": 4,
   "metadata": {},
   "outputs": [],
   "source": [
    "# Transform datetime\n",
    "merged_df = merged_df.withColumn(\"datetime\", to_timestamp(col(\"datetime\")))\n",
    "merged_df = merged_df.withColumn(\"month\", month(col(\"datetime\")))"
   ]
  },
  {
   "cell_type": "code",
   "execution_count": 23,
   "metadata": {},
   "outputs": [
    {
     "name": "stdout",
     "output_type": "stream",
     "text": [
      "root\n",
      " |-- eventID: string (nullable = true)\n",
      " |-- datetime: timestamp (nullable = true)\n",
      " |-- user_id: string (nullable = true)\n",
      " |-- keyword: string (nullable = true)\n",
      " |-- category: string (nullable = true)\n",
      " |-- proxy_isp: string (nullable = true)\n",
      " |-- platform: string (nullable = true)\n",
      " |-- networkType: string (nullable = true)\n",
      " |-- action: string (nullable = true)\n",
      " |-- userPlansMap: array (nullable = true)\n",
      " |    |-- element: string (containsNull = true)\n",
      " |-- month: integer (nullable = true)\n",
      "\n"
     ]
    }
   ],
   "source": [
    "merged_df.printSchema()"
   ]
  },
  {
   "cell_type": "code",
   "execution_count": 5,
   "metadata": {},
   "outputs": [
    {
     "name": "stderr",
     "output_type": "stream",
     "text": [
      "                                                                                \r"
     ]
    },
    {
     "name": "stdout",
     "output_type": "stream",
     "text": [
      "+--------------------+--------------------+--------+--------------------+--------+---------+--------------------+-----------+------+--------------------+-----+\n",
      "|             eventID|            datetime| user_id|             keyword|category|proxy_isp|            platform|networkType|action|        userPlansMap|month|\n",
      "+--------------------+--------------------+--------+--------------------+--------+---------+--------------------+-----------+------+--------------------+-----+\n",
      "|0a07f729-d126-4e4...|2022-06-11 20:00:...|93232266|           full moon|   enter|     vnpt|                 ios|       WIFI|search|                  []|    6|\n",
      "|f49475d9-08e5-484...|2022-06-11 20:00:...|42179752|     hồng kông kỳ án|   enter|     vnpt|   fplay-ottbox-2019|   ethernet|search|[Kênh Gia Đình:pr...|    6|\n",
      "|612bfd7d-a744-4be...|2022-06-11 20:00:...| 0778150|mãi mãi trong tim em|   enter|     vnpt| smarttv-ceb-nextgen|       NULL|search|                  []|    6|\n",
      "|f105bce4-0c64-463...|2022-06-11 20:00:...|94006566| bất động sản trừ tà|   enter|      fpt|                 ios|       WIFI|search|                  []|    6|\n",
      "|f5b61a11-b813-4e6...|2022-06-11 20:00:...|45599045|tứ kết u23 châu á...|   enter|     vnpt|                 ios|       WIFI|search|                  []|    6|\n",
      "|ba9612bc-d077-42b...|2022-06-11 20:00:...| 9803215|        fpt the thao|   enter|     vnpt|                 ios|       WIFI|search|                  []|    6|\n",
      "|410483ed-dd07-463...|2022-06-11 20:00:...|92521668|          phim Ấn Độ|   enter|  viettel|smarttv-sony-android|       wifi|search|[Kênh Gia Đình:pr...|    6|\n",
      "|cd6b870b-9ef4-4ec...|2022-06-11 20:00:...|    NULL| bống bống bang bang|   enter|     vnpt|fplay-ottbox-sei-...|   ethernet|search|                NULL|    6|\n",
      "|11d6c839-3199-433...|2022-06-11 20:00:...| 4349668|   trực tiếp bóng đá|   enter|  viettel|             android|       wifi|search|                  []|    6|\n",
      "|ee2e9787-a63a-496...|2022-06-11 20:00:...|97676973|    RUNNING MANTẬP 1|   enter|  viettel|         web-playfpt|       NULL|search|                  []|    6|\n",
      "|ecea15b6-e33b-4a5...|2022-06-11 20:00:...|43110514|thomas và đầu máy...|    quit|  viettel|smarttv-ss-nextge...|       NULL|search|                  []|    6|\n",
      "|42d0dc83-8cf1-418...|2022-06-11 20:00:...|    NULL|thiên nga bóng đê...|   enter|  viettel|                 ios|       WIFI|search|                NULL|    6|\n",
      "|a7ec3c85-8016-47a...|2022-06-11 20:00:...|    NULL|        hát tấm hình|   enter|  viettel|smart-tv-normal-n...|       wifi|search|                NULL|    6|\n",
      "|d706bcbe-045c-4d0...|2022-06-11 20:00:...|96385980|               ma ám|   enter|  viettel|     smart-tv-normal|       wifi|search|                  []|    6|\n",
      "|5e1eea1a-ddc8-4d1...|2022-06-11 20:00:...|48523128|lấy danh nghĩa ng...|   enter|  viettel|smarttv-ss-nextge...|       NULL|search|                  []|    6|\n",
      "|4b270179-30d8-45c...|2022-06-11 20:00:...|90896963|             UC  VS |    quit|  viettel|smart-tv-normal-n...|       wifi|search|                  []|    6|\n",
      "|82f743e8-24ab-41c...|2022-06-11 20:00:...|    NULL|   trực tiếp bóng đá|   enter|  viettel|                 ios|       WIFI|search|                NULL|    6|\n",
      "|008d5aed-7d7b-4ef...|2022-06-11 20:00:...| 7973628|  trực tiếp bóng đá |   enter|     vnpt|                 ios|       WWAN|search|                  []|    6|\n",
      "|f1aa4f6f-d976-4b4...|2022-06-11 20:00:...| 4063783|    edge of tomorrow|   enter|      fpt|smarttv-ss-nextge...|       NULL|search|                  []|    6|\n",
      "|bd6cc57b-634c-4e2...|2022-06-11 20:00:...|41764337|thanh gươm diệt q...|   enter|     vnpt|             android|       wifi|search|                  []|    6|\n",
      "+--------------------+--------------------+--------+--------------------+--------+---------+--------------------+-----------+------+--------------------+-----+\n",
      "only showing top 20 rows\n",
      "\n"
     ]
    }
   ],
   "source": [
    "merged_df.show()"
   ]
  },
  {
   "cell_type": "code",
   "execution_count": 7,
   "metadata": {},
   "outputs": [
    {
     "name": "stderr",
     "output_type": "stream",
     "text": [
      "                                                                                \r"
     ]
    },
    {
     "data": {
      "text/plain": [
       "2366972"
      ]
     },
     "execution_count": 7,
     "metadata": {},
     "output_type": "execute_result"
    }
   ],
   "source": [
    "merged_df.count()"
   ]
  },
  {
   "cell_type": "code",
   "execution_count": 5,
   "metadata": {},
   "outputs": [],
   "source": [
    "def process_log_search(data):\n",
    "    data = data.select('user_id', 'month', 'keyword')\n",
    "    data = data.groupBy('user_id', 'month', 'keyword').count()\n",
    "    data = data.withColumnRenamed('count','TotalSearch')\n",
    "    data = data.orderBy('user_id', ascending = False)\n",
    "    window = Window.partitionBy('user_id', 'month').orderBy(col('TotalSearch').desc())\n",
    "    data = data.withColumn('Rank',row_number().over(window))\n",
    "    data = data.filter(col('Rank') == 1)\n",
    "    data = data.withColumnRenamed('keyword','Most_Search')\n",
    "    data = data.select('user_id', 'month', 'Most_Search')\n",
    "    return data "
   ]
  },
  {
   "cell_type": "code",
   "execution_count": 6,
   "metadata": {},
   "outputs": [],
   "source": [
    "data = process_log_search(merged_df)"
   ]
  },
  {
   "cell_type": "code",
   "execution_count": 10,
   "metadata": {},
   "outputs": [
    {
     "name": "stderr",
     "output_type": "stream",
     "text": [
      "                                                                                \r"
     ]
    },
    {
     "data": {
      "text/plain": [
       "706704"
      ]
     },
     "execution_count": 10,
     "metadata": {},
     "output_type": "execute_result"
    }
   ],
   "source": [
    "data.count()"
   ]
  },
  {
   "cell_type": "code",
   "execution_count": 7,
   "metadata": {},
   "outputs": [
    {
     "name": "stderr",
     "output_type": "stream",
     "text": [
      "                                                                                \r"
     ]
    },
    {
     "name": "stdout",
     "output_type": "stream",
     "text": [
      "+--------+-----+--------------------+\n",
      "| user_id|month|         Most_Search|\n",
      "+--------+-----+--------------------+\n",
      "|95438351|    6|              zombie|\n",
      "| 9543862|    6|       vườn sao băng|\n",
      "|95438662|    7|the sex lives of ...|\n",
      "|95438665|    7|            CHUNG TA|\n",
      "|95438692|    7|  record of ragnarok|\n",
      "|95438750|    6|                0900|\n",
      "|95438787|    7|     tinh hà xán lạn|\n",
      "|95438807|    6|                soma|\n",
      "|95438862|    6|    kimetsu no yaiba|\n",
      "|95438877|    7|tại sao boss muốn...|\n",
      "|95439036|    6|       bắt ma phá án|\n",
      "|95439036|    7|hạnh phúc đến vạn...|\n",
      "|95439148|    7|              xe đua|\n",
      "|95439214|    7|định mệnh anh yêu em|\n",
      "|95439541|    7|                JOJO|\n",
      "|95439543|    6|trực tiếp việt na...|\n",
      "|95440167|    6|           onep pice|\n",
      "|95440168|    7|          JOHN WICK4|\n",
      "|95440254|    6|              BORUTO|\n",
      "|95440311|    6|     chạm vào tim em|\n",
      "+--------+-----+--------------------+\n",
      "only showing top 20 rows\n",
      "\n"
     ]
    }
   ],
   "source": [
    "data.show()"
   ]
  },
  {
   "cell_type": "code",
   "execution_count": 35,
   "metadata": {},
   "outputs": [
    {
     "name": "stderr",
     "output_type": "stream",
     "text": [
      "[Stage 386:>                                                        (0 + 8) / 9]\r"
     ]
    },
    {
     "name": "stdout",
     "output_type": "stream",
     "text": [
      "+--------+--------------------+--------------------+\n",
      "| user_id|    most_search_june|    most_search_july|\n",
      "+--------+--------------------+--------------------+\n",
      "|95397995|          sky castle|     hunter x hunter|\n",
      "|95398085|cuộc chiến thượng...|    hậu duệ mặt trời|\n",
      "|95398732|tokyo ghoul:re se...|             21 days|\n",
      "|95399499|         hội pháp sư|fairy tail nhiệm ...|\n",
      "|95399914|học viện quân sự ...|                 xem|\n",
      "|95399978|        keep running|          thần biển |\n",
      "|95400118|hay goi toi la gi...|cong to vien tai ...|\n",
      "| 9540484|         hoa cua quy|  tam biet vancouver|\n",
      "|95405240|buổi tập thứ hai ...|           phim ngắn|\n",
      "|95405382|     cặp mắt sát thủ|               alice|\n",
      "|95406019|   muốn được bên anh|     khu vườn bí mật|\n",
      "| 9540704|    fight for my way| thương ngày nặng về|\n",
      "|95407077|     phi vụ triệu đô|            bão ngầm|\n",
      "|95407546|           one piece|             as roma|\n",
      "| 9540759|thanh gươm diệt q...|vua bếp soma (phầ...|\n",
      "|95409529|            HELLSING|         overlord iv|\n",
      "|95410879|  cheese in the trap|                anna|\n",
      "|95411536|shokugeki no soum...|               iruma|\n",
      "|95413544|                 NVL|kẻ trộm mặt trăng...|\n",
      "|95413971|              BIBILI|                 EVE|\n",
      "+--------+--------------------+--------------------+\n",
      "only showing top 20 rows\n",
      "\n"
     ]
    },
    {
     "name": "stderr",
     "output_type": "stream",
     "text": [
      "                                                                                \r"
     ]
    }
   ],
   "source": [
    "pivoted_data = data.groupBy(\"user_id\").pivot(\"month\").agg(max(col(\"Most_Search\"))).select(\"user_id\", \"6\", \"7\") \\\n",
    "                    .withColumnRenamed(\"6\", \"most_search_june\") \\\n",
    "                    .withColumnRenamed(\"7\", \"most_search_july\") \\\n",
    "                    .filter((col(\"most_search_june\").isNotNull()) & (col(\"most_search_july\").isNotNull()))\n",
    "\n",
    "pivoted_data.show()"
   ]
  },
  {
   "cell_type": "code",
   "execution_count": 22,
   "metadata": {},
   "outputs": [
    {
     "name": "stderr",
     "output_type": "stream",
     "text": [
      "                                                                                \r"
     ]
    },
    {
     "data": {
      "text/plain": [
       "76720"
      ]
     },
     "execution_count": 22,
     "metadata": {},
     "output_type": "execute_result"
    }
   ],
   "source": [
    "pivoted_data.count()"
   ]
  },
  {
   "cell_type": "code",
   "execution_count": 33,
   "metadata": {},
   "outputs": [
    {
     "name": "stdout",
     "output_type": "stream",
     "text": [
      "+--------------------+---------+\n",
      "|         Most_Search| Category|\n",
      "+--------------------+---------+\n",
      "|    2 FAST 2 FURIOUS|   Action|\n",
      "|              BORUTO|    Anime|\n",
      "|            DORAEMON|    Anime|\n",
      "|             GAP GO |  C-DRAMA|\n",
      "|              GOBLIN|  K-DRAMA|\n",
      "|             HAIKYUU|    Anime|\n",
      "|             KENSHIN|    Anime|\n",
      "|                KHIE|undefined|\n",
      "|Liên Minh Công Lý...|   Action|\n",
      "|               MINIO|  Comedy |\n",
      "|            ONEPIECE|    Anime|\n",
      "|       YOU ARE MY GL|  C-DRAMA|\n",
      "|                anna|  Horror |\n",
      "|attack on titan (...|    Anime|\n",
      "|              bac si|  K-DRAMA|\n",
      "|              boruto|    Anime|\n",
      "|      bác sĩ luật sư|  K-DRAMA|\n",
      "|  bí mật nơi góc tối|  C-DRAMA|\n",
      "|bạn gái tôi là ng...| Romantic|\n",
      "|       bắt ma phá án|  Horror |\n",
      "+--------------------+---------+\n",
      "only showing top 20 rows\n",
      "\n"
     ]
    }
   ],
   "source": [
    "# Mapping file\n",
    "key_search_df = spark.read.csv(\"/Users/marcusle02/Documents/Learning/study_de/BD/data/key_search.csv\", header = True)\n",
    "key_search_df.show()"
   ]
  },
  {
   "cell_type": "code",
   "execution_count": 43,
   "metadata": {},
   "outputs": [
    {
     "name": "stderr",
     "output_type": "stream",
     "text": [
      "[Stage 404:>                                                        (0 + 8) / 9]\r"
     ]
    },
    {
     "name": "stdout",
     "output_type": "stream",
     "text": [
      "+--------+--------------------+--------------------+-------------+-------------+---------+----------------+\n",
      "| user_id|    most_search_june|    most_search_july|category_june|category_july| trending|         changes|\n",
      "+--------+--------------------+--------------------+-------------+-------------+---------+----------------+\n",
      "|95499666|        mộng hoa lục|            why her?|      C-DRAMA|     Romantic|  changed|C-DRAMA-Romantic|\n",
      "|95515064|         running man|         running man|    RealityTV|    RealityTV|unchanged|       unchanged|\n",
      "|95545171|yêu trong đau thương|  thiên nga bóng đêm|      V-DRAMA|      K-DRAMA|  changed| V-DRAMA-K-DRAMA|\n",
      "|95566492|            trữ tình|           siêu nhân|        Music|        Child|  changed|     Music-Child|\n",
      "|95580863|           siêu nhân|           siêu nhân|        Child|        Child|unchanged|       unchanged|\n",
      "|95585283|           one piece|           one piece|        Anime|        Anime|unchanged|       unchanged|\n",
      "| 9561405|        mộng hoa lục|        mộng hoa lục|      C-DRAMA|      C-DRAMA|unchanged|       unchanged|\n",
      "|95630568|       bắt ma phá án|       bắt ma phá án|      Horror |      Horror |unchanged|       unchanged|\n",
      "|95630599|           chàng hậu|           chàng hậu|     Romantic|     Romantic|unchanged|       unchanged|\n",
      "|95654398|  thiên nga bóng đêm|                 eve|      K-DRAMA|      K-DRAMA|unchanged|       unchanged|\n",
      "|95682343|        mộng hoa lục|        mộng hoa lục|      C-DRAMA|      C-DRAMA|unchanged|       unchanged|\n",
      "|95751693|            trữ tình|            trữ tình|        Music|        Music|unchanged|       unchanged|\n",
      "|95767590|tam sinh tam thế ...|tam sinh tam thế ...|      C-DRAMA|      C-DRAMA|unchanged|       unchanged|\n",
      "|95779055|            trữ tình|            trữ tình|        Music|        Music|unchanged|       unchanged|\n",
      "|95817700|            trò chơi|            trò chơi|       Action|       Action|unchanged|       unchanged|\n",
      "|  958611|              BORUTO|           siêu nhân|        Anime|        Child|  changed|     Anime-Child|\n",
      "|95861854|         running man|         running man|    RealityTV|    RealityTV|unchanged|       unchanged|\n",
      "|95879171|  thiên nga bóng đêm|                anna|      K-DRAMA|      Horror |  changed| K-DRAMA-Horror |\n",
      "|95887365|    đời sống ngục tù|kẻ trộm mặt trăng...|      K-DRAMA|      Comedy |  changed| K-DRAMA-Comedy |\n",
      "| 9589020|           siêu nhân|           siêu nhân|        Child|        Child|unchanged|       unchanged|\n",
      "+--------+--------------------+--------------------+-------------+-------------+---------+----------------+\n",
      "only showing top 20 rows\n",
      "\n"
     ]
    },
    {
     "name": "stderr",
     "output_type": "stream",
     "text": [
      "                                                                                \r"
     ]
    }
   ],
   "source": [
    "# Join with key_search_df\n",
    "mapped_data = pivoted_data.join(key_search_df, pivoted_data[\"most_search_june\"] == key_search_df[\"Most_Search\"], \"left\") \\\n",
    "    .withColumnRenamed(\"Category\", \"category_june\") \\\n",
    "    .drop(\"Most_Search\") \\\n",
    "    .join(key_search_df, pivoted_data[\"most_search_july\"] == key_search_df[\"Most_Search\"], \"left\") \\\n",
    "    .withColumnRenamed(\"Category\", \"category_july\") \\\n",
    "    .drop(\"Most_Search\")\n",
    "\n",
    "# Determine trending\n",
    "mapped_data = mapped_data.withColumn(\"trending\", when(col(\"category_june\") == col(\"category_july\"), \"unchanged\").otherwise(\"changed\"))\n",
    "\n",
    "# Determine changes\n",
    "mapped_data = mapped_data.withColumn(\"changes\", when(col(\"category_june\") == col(\"category_july\"), \"unchanged\")\n",
    "                                     .otherwise(concat(col(\"category_june\"), lit(\"-\"), col(\"category_july\")))) \\\n",
    "                         .filter((col(\"category_june\").isNotNull()) & (col(\"category_july\").isNotNull()))\n",
    "\n",
    "mapped_data.show()"
   ]
  },
  {
   "cell_type": "code",
   "execution_count": null,
   "metadata": {},
   "outputs": [],
   "source": [
    "# MySQL file, to join if needed\n",
    "url = \"jdbc:mysql://localhost/log_db\"\n",
    "connection_properties = {\n",
    "    \"user\": \"root\",\n",
    "    \"password\": \"5nam\",\n",
    "    \"driver\": \"com.mysql.cj.jdbc.Driver\"\n",
    "}\n",
    "\n",
    "dbtable = \"log_summary\"\n",
    "mysql_df = spark.read.jdbc(url=url, table=dbtable, properties=connection_properties)"
   ]
  },
  {
   "cell_type": "code",
   "execution_count": 44,
   "metadata": {},
   "outputs": [
    {
     "name": "stdout",
     "output_type": "stream",
     "text": [
      "root\n",
      " |-- user_id: string (nullable = true)\n",
      " |-- most_search_june: string (nullable = true)\n",
      " |-- most_search_july: string (nullable = true)\n",
      " |-- category_june: string (nullable = true)\n",
      " |-- category_july: string (nullable = true)\n",
      " |-- trending: string (nullable = false)\n",
      " |-- changes: string (nullable = true)\n",
      "\n"
     ]
    }
   ],
   "source": [
    "mapped_data.printSchema()"
   ]
  },
  {
   "cell_type": "code",
   "execution_count": 47,
   "metadata": {},
   "outputs": [
    {
     "name": "stderr",
     "output_type": "stream",
     "text": [
      "[Stage 434:======>                                                  (1 + 8) / 9]\r"
     ]
    },
    {
     "name": "stdout",
     "output_type": "stream",
     "text": [
      "Output saved to MySQL.\n"
     ]
    },
    {
     "name": "stderr",
     "output_type": "stream",
     "text": [
      "                                                                                \r"
     ]
    }
   ],
   "source": [
    "# Write data to MySQL\n",
    "dbtable2 = \"log_search_summary\"\n",
    "mapped_data.write.jdbc(url=url, table=dbtable2, mode='overwrite', properties=connection_properties)\n",
    "print(\"Output saved to MySQL.\")"
   ]
  }
 ],
 "metadata": {
  "kernelspec": {
   "display_name": "Python 3",
   "language": "python",
   "name": "python3"
  },
  "language_info": {
   "codemirror_mode": {
    "name": "ipython",
    "version": 3
   },
   "file_extension": ".py",
   "mimetype": "text/x-python",
   "name": "python",
   "nbconvert_exporter": "python",
   "pygments_lexer": "ipython3",
   "version": "3.9.13"
  },
  "orig_nbformat": 4
 },
 "nbformat": 4,
 "nbformat_minor": 2
}
